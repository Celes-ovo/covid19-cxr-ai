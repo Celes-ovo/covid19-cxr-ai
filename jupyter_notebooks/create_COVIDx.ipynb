{
 "cells": [
  {
   "cell_type": "markdown",
   "source": [
    "# Create COVIDx Dataset"
   ],
   "metadata": {}
  },
  {
   "cell_type": "markdown",
   "source": [
    "# 1. Library Import"
   ],
   "metadata": {}
  },
  {
   "cell_type": "code",
   "execution_count": 1,
   "source": [
    "import numpy as np\r\n",
    "import pandas as pd\r\n",
    "import os\r\n",
    "import random \r\n",
    "from shutil import copyfile\r\n",
    "import pydicom as dicom\r\n",
    "import cv2"
   ],
   "outputs": [],
   "metadata": {}
  },
  {
   "cell_type": "markdown",
   "source": [
    "# 2. Data Path Setting"
   ],
   "metadata": {}
  },
  {
   "cell_type": "code",
   "execution_count": 2,
   "source": [
    "# PATH setting\r\n",
    "path = 'C:\\\\Users\\\\Owner3\\\\Dataset\\\\COVID19' # Type Your PATH\r\n",
    "print(path)"
   ],
   "outputs": [
    {
     "output_type": "stream",
     "name": "stdout",
     "text": [
      "C:\\Users\\Owner3\\Dataset\\COVID19\n"
     ]
    }
   ],
   "metadata": {}
  },
  {
   "cell_type": "code",
   "execution_count": 3,
   "source": [
    "# set parameters here\r\n",
    "datapath = os.path.join(path, 'raw_data')\r\n",
    "savepath = os.path.join(path, 'new_data')\r\n",
    "seed = 0\r\n",
    "np.random.seed(seed) # Reset the seed so all runs are the same.\r\n",
    "random.seed(seed)\r\n",
    "MAXVAL = 255  # Range [0 255]\r\n",
    "\r\n",
    "# path to covid-19 dataset from https://github.com/ieee8023/covid-chestxray-dataset\r\n",
    "cohen_imgpath = os.path.join(datapath, 'covid-chestxray-dataset\\\\images')\r\n",
    "cohen_csvpath = os.path.join(datapath, 'covid-chestxray-dataset\\\\metadata.csv')\r\n",
    "\r\n",
    "# path to covid-19 dataset from https://github.com/agchung/Figure1-COVID-chestxray-dataset\r\n",
    "fig1_imgpath = os.path.join(datapath, 'Figure1-COVID-chestxray-dataset\\\\images')\r\n",
    "fig1_csvpath = os.path.join(datapath, 'Figure1-COVID-chestxray-dataset\\\\metadata.csv')\r\n",
    "\r\n",
    "# path to covid-19 dataset from https://github.com/agchung/Actualmed-COVID-chestxray-dataset\r\n",
    "actmed_imgpath = os.path.join(datapath, 'Actualmed-COVID-chestxray-dataset\\\\images')\r\n",
    "actmed_csvpath = os.path.join(datapath, 'Actualmed-COVID-chestxray-dataset\\\\metadata.csv')\r\n",
    "\r\n",
    "# path to covid-19 dataset from https://www.kaggle.com/tawsifurrahman/covid19-radiography-database\r\n",
    "sirm_imgpath = os.path.join(datapath, 'COVID-19_Radiography_Dataset\\\\COVID')\r\n",
    "sirm_csvpath = os.path.join(datapath, 'COVID-19_Radiography_Dataset\\\\COVID.metadata.xlsx')\r\n",
    "\r\n",
    "# path to https://www.kaggle.com/c/rsna-pneumonia-detection-challenge\r\n",
    "rsna_datapath = os.path.join(datapath,'rsna-pneumonia-detection-challenge')\r\n",
    "# get all the normal from here\r\n",
    "rsna_csvname = 'stage_2_detailed_class_info.csv' \r\n",
    "# get all the 1s from here since 1 indicate pneumonia\r\n",
    "# found that images that aren't pneunmonia and also not normal are classified as 0s\r\n",
    "rsna_csvname2 = 'stage_2_train_labels.csv' \r\n",
    "rsna_imgpath = 'stage_2_train_images'\r\n",
    "\r\n",
    "# path to ricord covid-19 images created by create_ricord_dataset/create_ricord_dataset.ipynb\r\n",
    "# run create_ricord_dataset.ipynb before this notebook\r\n",
    "# ricord_imgpath = 'create_ricord_dataset/ricord_images'\r\n",
    "# ricord_txt = 'create_ricord_dataset/ricord_data_set.txt'\r\n",
    "\r\n",
    "# parameters for COVIDx dataset\r\n",
    "train = []\r\n",
    "test = []\r\n",
    "test_count = {'normal': 0, 'pneumonia': 0, 'COVID-19': 0}\r\n",
    "train_count = {'normal': 0, 'pneumonia': 0, 'COVID-19': 0}\r\n",
    "\r\n",
    "covid = []\r\n",
    "normal = []\r\n",
    "class_count = {'COVID-19': 0, 'normal': 0}\r\n",
    "\r\n",
    "mapping = dict()\r\n",
    "mapping['COVID-19'] = 'COVID-19'\r\n",
    "mapping['SARS'] = 'pneumonia'\r\n",
    "mapping['MERS'] = 'pneumonia'\r\n",
    "mapping['Streptococcus'] = 'pneumonia'\r\n",
    "mapping['Klebsiella'] = 'pneumonia'\r\n",
    "mapping['Chlamydophila'] = 'pneumonia'\r\n",
    "mapping['Legionella'] = 'pneumonia'\r\n",
    "mapping['Normal'] = 'normal'\r\n",
    "mapping['Lung Opacity'] = 'pneumonia'\r\n",
    "mapping['1'] = 'pneumonia'\r\n",
    "\r\n",
    "# train/test split\r\n",
    "split = 0.1\r\n",
    "\r\n",
    "# to avoid duplicates\r\n",
    "patient_imgpath = {}"
   ],
   "outputs": [],
   "metadata": {}
  },
  {
   "cell_type": "code",
   "execution_count": 4,
   "source": [
    "# Output directroy Build\r\n",
    "def path_builder(path):\r\n",
    "    try:\r\n",
    "        os.mkdir(path)\r\n",
    "    except Exception as err:\r\n",
    "        print(err)\r\n",
    "        pass\r\n",
    "\r\n",
    "path_builder(savepath)\r\n",
    "path_builder(os.path.join(savepath, 'covid'))\r\n",
    "path_builder(os.path.join(savepath, 'normal'))"
   ],
   "outputs": [
    {
     "output_type": "stream",
     "name": "stdout",
     "text": [
      "[WinError 183] 파일이 이미 있으므로 만들 수 없습니다: 'C:\\\\Users\\\\Owner3\\\\Dataset\\\\COVID19\\\\new_data'\n",
      "[WinError 183] 파일이 이미 있으므로 만들 수 없습니다: 'C:\\\\Users\\\\Owner3\\\\Dataset\\\\COVID19\\\\new_data\\\\covid'\n",
      "[WinError 183] 파일이 이미 있으므로 만들 수 없습니다: 'C:\\\\Users\\\\Owner3\\\\Dataset\\\\COVID19\\\\new_data\\\\normal'\n"
     ]
    }
   ],
   "metadata": {}
  },
  {
   "cell_type": "markdown",
   "source": [
    "## 2.1 Metadata Reading"
   ],
   "metadata": {}
  },
  {
   "cell_type": "code",
   "execution_count": 6,
   "source": [
    "# adapted from https://github.com/mlmed/torchxrayvision/blob/master/torchxrayvision/datasets.py#L814\r\n",
    "cohen_csv = pd.read_csv(cohen_csvpath, nrows=None)\r\n",
    "\r\n",
    "#idx_pa = csv[\"view\"] == \"PA\"  # Keep only the PA view\r\n",
    "views = [\"PA\", \"AP\", \"AP Supine\", \"AP semi erect\", \"AP erect\"]\r\n",
    "cohen_idx_keep = cohen_csv.view.isin(views)\r\n",
    "cohen_csv = cohen_csv[cohen_idx_keep]\r\n",
    "\r\n",
    "fig1_csv = pd.read_csv(fig1_csvpath, encoding='ISO-8859-1', nrows=None)\r\n",
    "actmed_csv = pd.read_csv(actmed_csvpath, nrows=None)\r\n",
    "\r\n",
    "sirm_csv = pd.read_excel(sirm_csvpath)"
   ],
   "outputs": [],
   "metadata": {}
  },
  {
   "cell_type": "markdown",
   "source": [
    "## 2.2 Dataset distribution"
   ],
   "metadata": {}
  },
  {
   "cell_type": "code",
   "execution_count": 7,
   "source": [
    "# get non-COVID19 viral, bacteria, and COVID-19 infections from covid-chestxray-dataset, figure1 and actualmed\r\n",
    "# stored as patient id, image filename and label\r\n",
    "filename_label = {'normal': [], 'pneumonia': [], 'COVID-19': []}\r\n",
    "count = {'normal': 0, 'pneumonia': 0, 'COVID-19': 0}\r\n",
    "covid_ds = {'cohen': [], 'fig1': [], 'actmed': [], 'sirm': []}\r\n",
    "\r\n",
    "for index, row in cohen_csv.iterrows():\r\n",
    "    f = row['finding'].split(',')[0] # take the first finding, for the case of COVID-19, ARDS\r\n",
    "    if f in mapping: # \r\n",
    "        count[mapping[f]] += 1\r\n",
    "        entry = [str(row['patientid']), row['filename'], mapping[f], 'cohen']\r\n",
    "        filename_label[mapping[f]].append(entry)\r\n",
    "        if mapping[f] == 'COVID-19':\r\n",
    "            covid_ds['cohen'].append(str(row['patientid']))\r\n",
    "        \r\n",
    "for index, row in fig1_csv.iterrows():\r\n",
    "    if not str(row['finding']) == 'nan':\r\n",
    "        f = row['finding'].split(',')[0] # take the first finding\r\n",
    "        if f in mapping: # \r\n",
    "            count[mapping[f]] += 1\r\n",
    "            if os.path.exists(os.path.join(fig1_imgpath, row['patientid'] + '.jpg')):\r\n",
    "                entry = [row['patientid'], row['patientid'] + '.jpg', mapping[f], 'fig1']\r\n",
    "            elif os.path.exists(os.path.join(fig1_imgpath, row['patientid'] + '.png')):\r\n",
    "                entry = [row['patientid'], row['patientid'] + '.png', mapping[f], 'fig1']\r\n",
    "            filename_label[mapping[f]].append(entry)\r\n",
    "            if mapping[f] == 'COVID-19':\r\n",
    "                covid_ds['fig1'].append(row['patientid'])\r\n",
    "\r\n",
    "for index, row in actmed_csv.iterrows():\r\n",
    "    if not str(row['finding']) == 'nan':\r\n",
    "        f = row['finding'].split(',')[0]\r\n",
    "        if f in mapping:\r\n",
    "            count[mapping[f]] += 1\r\n",
    "            entry = [row['patientid'], row['imagename'], mapping[f], 'actmed']\r\n",
    "            filename_label[mapping[f]].append(entry)\r\n",
    "            if mapping[f] == 'COVID-19':\r\n",
    "                covid_ds['actmed'].append(row['patientid'])\r\n",
    "    \r\n",
    "sirm = set(sirm_csv['URL'])\r\n",
    "cohen = set(cohen_csv['url'])\r\n",
    "discard = ['100', '101', '102', '103', '104', '105', \r\n",
    "           '110', '111', '112', '113', '122', '123', \r\n",
    "           '124', '125', '126', '217']\r\n",
    "\r\n",
    "for idx, row in sirm_csv.iterrows():\r\n",
    "    patientid = row['FILE NAME']\r\n",
    "    if row['URL'] not in cohen and patientid[patientid.find('(')+1:patientid.find(')')] not in discard:\r\n",
    "        count[mapping['COVID-19']] += 1\r\n",
    "        imagename = patientid + '.' + row['FORMAT'].lower()\r\n",
    "        if not os.path.exists(os.path.join(sirm_imgpath, imagename)):\r\n",
    "            imagename = patientid.split('(')[0] + ' ('+ patientid.split('(')[1] + '.' + row['FORMAT'].lower()\r\n",
    "        entry = [patientid, imagename, mapping['COVID-19'], 'sirm']\r\n",
    "        filename_label[mapping['COVID-19']].append(entry)\r\n",
    "        covid_ds['sirm'].append(patientid)\r\n",
    "    \r\n",
    "print('Data distribution from covid datasets:')\r\n",
    "print(count)"
   ],
   "outputs": [
    {
     "output_type": "stream",
     "name": "stdout",
     "text": [
      "Data distribution from covid datasets:\n",
      "{'normal': 0, 'pneumonia': 0, 'COVID-19': 3709}\n"
     ]
    }
   ],
   "metadata": {}
  },
  {
   "cell_type": "markdown",
   "source": [
    "# 3. COVID-19 Dataset (Class)"
   ],
   "metadata": {}
  },
  {
   "cell_type": "markdown",
   "source": [
    "## 3.1. COVID-19 Class"
   ],
   "metadata": {}
  },
  {
   "cell_type": "code",
   "execution_count": 8,
   "source": [
    "ds_imgpath = {'cohen': cohen_imgpath, 'fig1': fig1_imgpath, 'actmed': actmed_imgpath, 'sirm': sirm_imgpath}\r\n",
    "\r\n",
    "for key in filename_label.keys():\r\n",
    "    arr = np.array(filename_label['COVID-19'])\r\n",
    "    # go through all the patients\r\n",
    "    for patient in arr:\r\n",
    "        if patient[0] not in patient_imgpath:\r\n",
    "            patient_imgpath[patient[0]] = [patient[1]]\r\n",
    "        else:\r\n",
    "            if patient[1] not in patient_imgpath[patient[0]]:\r\n",
    "                patient_imgpath[patient[0]].append(patient[1])\r\n",
    "            else:\r\n",
    "                continue  # skip since image has already been written\r\n",
    "        if patient[3] == 'sirm':\r\n",
    "            image = cv2.imread(os.path.join(ds_imgpath[patient[3]], patient[1]))\r\n",
    "            gray = cv2.cvtColor(image, cv2.COLOR_BGR2GRAY)\r\n",
    "            patient[1] = patient[1].replace(' ', '')\r\n",
    "            cv2.imwrite(os.path.join(savepath, 'covid', patient[1]), gray)\r\n",
    "        else:\r\n",
    "            copyfile(os.path.join(ds_imgpath[patient[3]], patient[1]), os.path.join(savepath, 'covid', patient[1]))\r\n",
    "        covid.append(patient)\r\n",
    "        class_count[patient[2]] += 1\r\n",
    "\r\n",
    "print('Covid count: ', class_count)"
   ],
   "outputs": [
    {
     "output_type": "stream",
     "name": "stdout",
     "text": [
      "Covid count:  {'COVID-19': 3709, 'normal': 0}\n"
     ]
    }
   ],
   "metadata": {}
  },
  {
   "cell_type": "markdown",
   "source": [
    "## 3.2. Normal Dataset"
   ],
   "metadata": {}
  },
  {
   "cell_type": "code",
   "execution_count": 9,
   "source": [
    "csv_normal = pd.read_csv(os.path.join(rsna_datapath, rsna_csvname), nrows=None)\r\n",
    "csv_pneu = pd.read_csv(os.path.join(rsna_datapath, rsna_csvname2), nrows=None)\r\n",
    "patients = {'normal': [], 'pneumonia': []}\r\n",
    "\r\n",
    "for index, row in csv_normal.iterrows():\r\n",
    "    if row['class'] == 'Normal':\r\n",
    "        patients['normal'].append(row['patientId'])\r\n",
    "\r\n",
    "\r\n",
    "for key in patients.keys():\r\n",
    "    arr = np.array(patients['normal'])\r\n",
    "    if arr.size == 0:\r\n",
    "        continue\r\n",
    "    for patient in arr:\r\n",
    "        if patient not in patient_imgpath:\r\n",
    "            patient_imgpath[patient] = [patient]\r\n",
    "        else:\r\n",
    "            continue  # skip since image has already been written\r\n",
    "                \r\n",
    "        ds = dicom.dcmread(os.path.join(rsna_datapath, rsna_imgpath, patient + '.dcm'))\r\n",
    "        pixel_array_numpy = ds.pixel_array\r\n",
    "        imgname = patient + '.png'\r\n",
    "        cv2.imwrite(os.path.join(savepath, 'normal', imgname), pixel_array_numpy)\r\n",
    "        normal.append([patient, imgname, key, 'rsna'])\r\n",
    "        class_count[key] += 1\r\n",
    "\r\n",
    "print('Normal count: ', class_count)"
   ],
   "outputs": [
    {
     "output_type": "stream",
     "name": "stdout",
     "text": [
      "Normal count:  {'COVID-19': 3709, 'normal': 8851}\n"
     ]
    }
   ],
   "metadata": {}
  },
  {
   "cell_type": "code",
   "execution_count": 10,
   "source": [
    "print('COVID dataset Number = ', len(list(os.listdir(os.path.join(savepath, 'covid')))))\r\n",
    "print('Normal dataset Number = ', len(list(os.listdir(os.path.join(savepath, 'normal')))))"
   ],
   "outputs": [
    {
     "output_type": "stream",
     "name": "stdout",
     "text": [
      "COVID dataset Number =  3709\n",
      "Normal dataset Number =  8851\n"
     ]
    }
   ],
   "metadata": {}
  },
  {
   "cell_type": "code",
   "execution_count": null,
   "source": [],
   "outputs": [],
   "metadata": {}
  }
 ],
 "metadata": {
  "kernelspec": {
   "name": "python3",
   "display_name": "Python 3.8.5 64-bit ('base': conda)"
  },
  "language_info": {
   "codemirror_mode": {
    "name": "ipython",
    "version": 3
   },
   "file_extension": ".py",
   "mimetype": "text/x-python",
   "name": "python",
   "nbconvert_exporter": "python",
   "pygments_lexer": "ipython3",
   "version": "3.8.5"
  },
  "interpreter": {
   "hash": "d339cf7e8acb49ee176980b24b3f29b2823c3ee7b4f4de203b91096957d22e06"
  }
 },
 "nbformat": 4,
 "nbformat_minor": 2
}