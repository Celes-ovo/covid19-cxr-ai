{
 "cells": [
  {
   "cell_type": "markdown",
   "metadata": {},
   "source": [
    "# Create Kaggle Pneumonia Dataset"
   ]
  },
  {
   "cell_type": "markdown",
   "metadata": {},
   "source": [
    "# 1. Library Import"
   ]
  },
  {
   "cell_type": "code",
   "execution_count": 1,
   "metadata": {},
   "outputs": [],
   "source": [
    "import numpy as np\n",
    "import pandas as pd\n",
    "import os\n",
    "import random \n",
    "from shutil import copyfile"
   ]
  },
  {
   "cell_type": "markdown",
   "metadata": {},
   "source": [
    "# 2. Dataset analysis (Train/PNEUMONIA)"
   ]
  },
  {
   "cell_type": "code",
   "execution_count": 15,
   "metadata": {
    "tags": []
   },
   "outputs": [
    {
     "name": "stdout",
     "output_type": "stream",
     "text": [
      "Data number = 3875\n"
     ]
    }
   ],
   "source": [
    "data_path = 'C:\\\\link_sangmin\\\\project\\\\data\\\\chest_xray\\\\train\\\\PNEUMONIA' # Type Your PATH\n",
    "data_list = os.listdir(data_path)\n",
    "print('Data number = %s' % len(data_list))\n",
    "#print(data_list)"
   ]
  },
  {
   "cell_type": "code",
   "execution_count": 3,
   "metadata": {
    "tags": []
   },
   "outputs": [
    {
     "name": "stdout",
     "output_type": "stream",
     "text": [
      "bacteria = 2530, virus = 1345, error = 0\n"
     ]
    }
   ],
   "source": [
    "bac_num, vir_num, err_num = 0, 0 ,0\n",
    "for i, i_ in enumerate(data_list):\n",
    "    cls_name = i_.split('_')[1]\n",
    "    #print(cls_name)\n",
    "    if cls_name == 'bacteria':\n",
    "        bac_num += 1\n",
    "    elif cls_name == 'virus':\n",
    "        vir_num += 1\n",
    "    else:\n",
    "        err_num += 1\n",
    "print('bacteria = %s, virus = %s, error = %s' %(bac_num, vir_num, err_num))"
   ]
  },
  {
   "cell_type": "markdown",
   "metadata": {},
   "source": [
    "# 3. Dataset Create"
   ]
  },
  {
   "cell_type": "code",
   "execution_count": 7,
   "metadata": {},
   "outputs": [],
   "source": [
    "output_path = 'C:\\\\link_sangmin\\\\project\\\\data\\\\COVID-19\\\\new_data' # Type Your PATH"
   ]
  },
  {
   "cell_type": "code",
   "execution_count": 8,
   "metadata": {},
   "outputs": [
    {
     "data": {
      "text/plain": [
       "'C:\\\\link_sangmin\\\\project\\\\data\\\\COVID-19\\\\new_data'"
      ]
     },
     "execution_count": 8,
     "metadata": {},
     "output_type": "execute_result"
    }
   ],
   "source": [
    "output_path"
   ]
  },
  {
   "cell_type": "code",
   "execution_count": 10,
   "metadata": {},
   "outputs": [],
   "source": [
    "try:\n",
    "    os.mkdir(os.path.join(output_path, 'bacteria'))\n",
    "except:\n",
    "    pass\n",
    "try:\n",
    "    os.mkdir(os.path.join(output_path, 'virus'))\n",
    "except:\n",
    "    pass\n",
    "\n",
    "\n",
    "for i, i_ in enumerate(data_list):\n",
    "    cls_name = i_.split('_')[1]\n",
    "    if cls_name == 'bacteria':\n",
    "        copyfile(os.path.join(data_path, i_), os.path.join(output_path, 'bacteria', i_))\n",
    "    elif cls_name == 'virus':\n",
    "        copyfile(os.path.join(data_path, i_), os.path.join(output_path, 'virus', i_))\n",
    "    else:\n",
    "        print('!ERROR!: file = %s' %i_)"
   ]
  }
 ],
 "metadata": {
  "interpreter": {
   "hash": "cadc0310c54bc9f6570d621a8937c55a2c65c78c9bd13b554987bb3284e20333"
  },
  "kernelspec": {
   "display_name": "Python 3.8.0 64-bit ('link': conda)",
   "name": "python3"
  },
  "language_info": {
   "codemirror_mode": {
    "name": "ipython",
    "version": 3
   },
   "file_extension": ".py",
   "mimetype": "text/x-python",
   "name": "python",
   "nbconvert_exporter": "python",
   "pygments_lexer": "ipython3",
   "version": "3.8.0"
  }
 },
 "nbformat": 4,
 "nbformat_minor": 4
}
