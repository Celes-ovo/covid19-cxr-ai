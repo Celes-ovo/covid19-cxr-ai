{
 "cells": [
  {
   "cell_type": "markdown",
   "source": [
    "# Create Kaggle Pneumonia Dataset"
   ],
   "metadata": {}
  },
  {
   "cell_type": "markdown",
   "source": [
    "# 1. Library Import"
   ],
   "metadata": {}
  },
  {
   "cell_type": "code",
   "execution_count": 1,
   "source": [
    "import numpy as np\r\n",
    "import pandas as pd\r\n",
    "import os\r\n",
    "import random \r\n",
    "from shutil import copyfile"
   ],
   "outputs": [],
   "metadata": {}
  },
  {
   "cell_type": "markdown",
   "source": [
    "# 2. Dataset analysis (Train/PNEUMONIA)"
   ],
   "metadata": {}
  },
  {
   "cell_type": "code",
   "execution_count": 8,
   "source": [
    "data_path = 'C:\\\\Users\\\\Owner3\\\\Dataset\\\\COVID19\\\\raw_data\\\\chest_xray\\\\val\\\\PNEUMONIA' # Type Your PATH\r\n",
    "data_list = os.listdir(data_path)\r\n",
    "print('Data number = %s' % len(data_list))\r\n",
    "print(data_list)"
   ],
   "outputs": [
    {
     "output_type": "stream",
     "name": "stdout",
     "text": [
      "Data number = 8\n",
      "['person1946_bacteria_4874.jpeg', 'person1946_bacteria_4875.jpeg', 'person1947_bacteria_4876.jpeg', 'person1949_bacteria_4880.jpeg', 'person1950_bacteria_4881.jpeg', 'person1951_bacteria_4882.jpeg', 'person1952_bacteria_4883.jpeg', 'person1954_bacteria_4886.jpeg']\n"
     ]
    }
   ],
   "metadata": {}
  },
  {
   "cell_type": "code",
   "execution_count": 9,
   "source": [
    "bac_num, vir_num, err_num = 0, 0 ,0\r\n",
    "for i, i_ in enumerate(data_list):\r\n",
    "    cls_name = i_.split('_')[1]\r\n",
    "    #print(cls_name)\r\n",
    "    if cls_name == 'bacteria':\r\n",
    "        bac_num += 1\r\n",
    "    elif cls_name == 'virus':\r\n",
    "        vir_num += 1\r\n",
    "    else:\r\n",
    "        err_num += 1\r\n",
    "print('bacteria = %s, virus = %s, error = %s' %(bac_num, vir_num, err_num))"
   ],
   "outputs": [
    {
     "output_type": "stream",
     "name": "stdout",
     "text": [
      "bacteria = 8, virus = 0, error = 0\n"
     ]
    }
   ],
   "metadata": {}
  },
  {
   "cell_type": "markdown",
   "source": [
    "# 3. Dataset Create"
   ],
   "metadata": {}
  },
  {
   "cell_type": "code",
   "execution_count": 6,
   "source": [
    "output_path = 'C:\\\\Users\\\\Owner3\\\\Dataset\\\\COVID19\\\\new_data' # Type Your PATH"
   ],
   "outputs": [],
   "metadata": {}
  },
  {
   "cell_type": "code",
   "execution_count": 7,
   "source": [
    "try:\r\n",
    "    os.mkdir(os.path.join(output_path, 'bacteria'))\r\n",
    "except:\r\n",
    "    pass\r\n",
    "try:\r\n",
    "    os.mkdir(os.path.join(output_path, 'virus'))\r\n",
    "except:\r\n",
    "    pass\r\n",
    "for i, i_ in enumerate(data_list):\r\n",
    "    cls_name = i_.split('_')[1]\r\n",
    "    if cls_name == 'bacteria':\r\n",
    "        copyfile(os.path.join(data_path, i_), os.path.join(output_path, 'bacteria', i_))\r\n",
    "    elif cls_name == 'virus':\r\n",
    "        copyfile(os.path.join(data_path, i_), os.path.join(output_path, 'virus', i_))\r\n",
    "    else:\r\n",
    "        print('!ERROR!: file = %s' %i_)"
   ],
   "outputs": [],
   "metadata": {}
  },
  {
   "cell_type": "code",
   "execution_count": null,
   "source": [],
   "outputs": [],
   "metadata": {}
  }
 ],
 "metadata": {
  "kernelspec": {
   "name": "python3",
   "display_name": "Python 3.8.5 64-bit ('base': conda)"
  },
  "language_info": {
   "codemirror_mode": {
    "name": "ipython",
    "version": 3
   },
   "file_extension": ".py",
   "mimetype": "text/x-python",
   "name": "python",
   "nbconvert_exporter": "python",
   "pygments_lexer": "ipython3",
   "version": "3.8.5"
  },
  "interpreter": {
   "hash": "d339cf7e8acb49ee176980b24b3f29b2823c3ee7b4f4de203b91096957d22e06"
  }
 },
 "nbformat": 4,
 "nbformat_minor": 4
}